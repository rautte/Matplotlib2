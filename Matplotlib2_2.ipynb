{
  "nbformat": 4,
  "nbformat_minor": 0,
  "metadata": {
    "colab": {
      "provenance": []
    },
    "kernelspec": {
      "name": "python3",
      "display_name": "Python 3"
    },
    "language_info": {
      "name": "python"
    }
  },
  "cells": [
    {
      "cell_type": "code",
      "execution_count": null,
      "metadata": {
        "id": "N_r889SsMk00"
      },
      "outputs": [],
      "source": [
        "import matplotlib.pyplot as plt\n",
        "import numpy as np\n",
        "from matplotlib import colors\n",
        "from matplotlib.ticker import PercentFormatter\n",
        "\n",
        "np.random.seed(23685752)\n",
        "N_points = 10000\n",
        "n_bins = 20\n",
        "\n",
        "x = np.random.randn(N_points)\n",
        "y = .8 ** x + np.random.randn(10000) + 25\n",
        "legend = ['distribution']\n",
        "\n",
        "fig, axs = plt.subplots(1, 1,\n",
        "                        figsize =(10, 7),\n",
        "                        tight_layout = True)\n",
        "\n",
        "for s in ['top', 'bottom', 'left', 'right']:\n",
        "    axs.spines[s].set_visible(False)\n",
        "\n",
        "axs.xaxis.set_ticks_position('none')\n",
        "axs.yaxis.set_ticks_position('none')\n",
        "\n",
        "axs.xaxis.set_tick_params(pad = 5)\n",
        "axs.yaxis.set_tick_params(pad = 10)\n",
        "\n",
        "axs.grid(b = True, color ='grey',\n",
        "        linestyle ='-.', linewidth = 0.5,\n",
        "        alpha = 0.6)\n",
        "\n",
        "fig.text(0.9, 0.15, 'Jeeteshgavande30',\n",
        "         fontsize = 12,\n",
        "         color ='red',\n",
        "         ha ='right',\n",
        "         va ='bottom',\n",
        "         alpha = 0.7)\n",
        "\n",
        "N, bins, patches = axs.hist(x, bins = n_bins)\n",
        "\n",
        "fracs = ((N**(1 / 5)) / N.max())\n",
        "norm = colors.Normalize(fracs.min(), fracs.max())\n",
        "\n",
        "for thisfrac, thispatch in zip(fracs, patches):\n",
        "    color = plt.cm.viridis(norm(thisfrac))\n",
        "    thispatch.set_facecolor(color)\n",
        "\n",
        "plt.xlabel(\"X-axis\")\n",
        "plt.ylabel(\"y-axis\")\n",
        "plt.legend(legend)\n",
        "plt.title('Customized histogram')\n",
        "\n",
        "plt.show()"
      ]
    }
  ]
}
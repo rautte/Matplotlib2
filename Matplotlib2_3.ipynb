{
  "nbformat": 4,
  "nbformat_minor": 0,
  "metadata": {
    "colab": {
      "provenance": []
    },
    "kernelspec": {
      "name": "python3",
      "display_name": "Python 3"
    },
    "language_info": {
      "name": "python"
    }
  },
  "cells": [
    {
      "cell_type": "code",
      "execution_count": null,
      "metadata": {
        "id": "N_r889SsMk00"
      },
      "outputs": [],
      "source": [
        "import matplotlib.pyplot as plt\n",
        "\n",
        "x1 = [89, 43, 36, 36, 95, 10,\n",
        "      66, 34, 38, 20]\n",
        "\n",
        "y1 = [21, 46, 3, 35, 67, 95,\n",
        "      53, 72, 58, 10]\n",
        "\n",
        "x2 = [26, 29, 48, 64, 6, 5,\n",
        "      36, 66, 72, 40]\n",
        "\n",
        "y2 = [26, 34, 90, 33, 38,\n",
        "      20, 56, 2, 47, 15]\n",
        "\n",
        "plt.scatter(x1, y1, c =\"pink\",\n",
        "            linewidths = 2,\n",
        "            marker =\"s\",\n",
        "            edgecolor =\"green\",\n",
        "            s = 50)\n",
        "\n",
        "plt.scatter(x2, y2, c =\"yellow\",\n",
        "            linewidths = 2,\n",
        "            marker =\"^\",\n",
        "            edgecolor =\"red\",\n",
        "            s = 200)\n",
        "\n",
        "plt.xlabel(\"X-axis\")\n",
        "plt.ylabel(\"Y-axis\")\n",
        "plt.show()"
      ]
    }
  ]
}
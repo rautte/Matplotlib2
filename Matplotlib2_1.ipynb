{
  "nbformat": 4,
  "nbformat_minor": 0,
  "metadata": {
    "colab": {
      "provenance": []
    },
    "kernelspec": {
      "name": "python3",
      "display_name": "Python 3"
    },
    "language_info": {
      "name": "python"
    }
  },
  "cells": [
    {
      "cell_type": "code",
      "execution_count": null,
      "metadata": {
        "id": "N_r889SsMk00"
      },
      "outputs": [],
      "source": [
        "import matplotlib.pyplot as plt\n",
        "import numpy as np\n",
        "\n",
        "x = np.array([1, 2, 3, 4])\n",
        "y = x*2\n",
        "\n",
        "plt.plot(x, y)\n",
        "\n",
        "x1 = [2, 4, 6, 8]\n",
        "y1 = [3, 5, 7, 9]\n",
        "\n",
        "plt.plot(x, y1, '-.')\n",
        "plt.xlabel(\"X-axis data\")\n",
        "plt.ylabel(\"Y-axis data\")\n",
        "plt.title('multiple plots')\n",
        "\n",
        "plt.fill_between(x, y, y1, color='green', alpha=0.5)\n",
        "plt.show()"
      ]
    }
  ]
}
{
  "nbformat": 4,
  "nbformat_minor": 0,
  "metadata": {
    "colab": {
      "provenance": []
    },
    "kernelspec": {
      "name": "python3",
      "display_name": "Python 3"
    },
    "language_info": {
      "name": "python"
    }
  },
  "cells": [
    {
      "cell_type": "code",
      "execution_count": null,
      "metadata": {
        "id": "N_r889SsMk00"
      },
      "outputs": [],
      "source": [
        "from matplotlib import pyplot as plt\n",
        "import numpy as np\n",
        "\n",
        "size = 6\n",
        "cars = ['AUDI', 'BMW', 'FORD',\n",
        "        'TESLA', 'JAGUAR', 'MERCEDES']\n",
        "\n",
        "data = np.array([[23, 16], [17, 23],\n",
        "                 [35, 11], [29, 33],\n",
        "                 [12, 27], [41, 42]])\n",
        "\n",
        "norm = data / np.sum(data)*2 * np.pi\n",
        "\n",
        "left = np.cumsum(np.append(0,\n",
        "                           norm.flatten()[:-1])).reshape(data.shape)\n",
        "\n",
        "cmap = plt.get_cmap(\"tab20c\")\n",
        "outer_colors = cmap(np.arange(6)*4)\n",
        "inner_colors = cmap(np.array([1, 2, 5, 6, 9,\n",
        "                              10, 12, 13, 15,\n",
        "                              17, 18, 20 ]))\n",
        "\n",
        "fig, ax = plt.subplots(figsize =(10, 7),\n",
        "                       subplot_kw = dict(polar = True))\n",
        "\n",
        "ax.bar(x = left[:, 0],\n",
        "       width = norm.sum(axis = 1),\n",
        "       bottom = 1-size,\n",
        "       height = size,\n",
        "       color = outer_colors,\n",
        "       edgecolor ='w',\n",
        "       linewidth = 1,\n",
        "       align =\"edge\")\n",
        "\n",
        "ax.bar(x = left.flatten(),\n",
        "       width = norm.flatten(),\n",
        "       bottom = 1-2 * size,\n",
        "       height = size,\n",
        "       color = inner_colors,\n",
        "       edgecolor ='w',\n",
        "       linewidth = 1,\n",
        "       align =\"edge\")\n",
        "\n",
        "ax.set(title =\"Nested pie chart\")\n",
        "ax.set_axis_off()\n",
        "plt.show()"
      ]
    }
  ]
}